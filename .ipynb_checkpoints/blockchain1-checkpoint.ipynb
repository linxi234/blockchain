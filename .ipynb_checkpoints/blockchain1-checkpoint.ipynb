{
 "cells": [
  {
   "cell_type": "code",
   "execution_count": 2,
   "metadata": {},
   "outputs": [
    {
     "name": "stdout",
     "output_type": "stream",
     "text": [
      "print block info ####:\n",
      "{'index': 0, 'timestamp': '01/01/2018', 'data': 'genesis block', 'previousHash': '0', 'hash': 'd8d21e5ba33780d5eb77d09d3b407ceb8ade4e5545ef951de1997b209d91e264'}\n",
      "{'index': 1, 'timestamp': '02/01/2018', 'data': '{amount:4}', 'previousHash': 'd8d21e5ba33780d5eb77d09d3b407ceb8ade4e5545ef951de1997b209d91e264', 'hash': '15426e32db30f4b26aa719ba5e573f372f41e27e4728eb9e9ab0bea8eae63a9d'}\n",
      "{'index': 2, 'timestamp': '03/01/2018', 'data': '{amount:5}', 'previousHash': '15426e32db30f4b26aa719ba5e573f372f41e27e4728eb9e9ab0bea8eae63a9d', 'hash': '75119e897f21c769acee6e32abcefc5e88e250a1f35cc95946379436050ac2f0'}\n",
      "before tamper block,blockchain is valid ###\n",
      "True\n",
      "after tamper block,blockchain is valid ###\n",
      "False\n"
     ]
    }
   ],
   "source": [
    "from hashlib import sha256\n",
    "\n",
    "class Block:\n",
    "     \n",
    "    def __init__(self,index,timestamp,data,previousHash=\"\"):\n",
    "        \n",
    "        self.index = index\n",
    "        self.timestamp = timestamp\n",
    "        self.data = data\n",
    "        self.previousHash = previousHash\n",
    "        self.hash = self.calculateHash()\n",
    "        \n",
    "    \n",
    "    def calculateHash(self):\n",
    "        plainData = str(self.index)+str(self.timestamp)+str(self.data)\n",
    "        return sha256(plainData.encode('utf-8')).hexdigest()\n",
    "    \n",
    "    def __str__(self):\n",
    "        return str(self.__dict__)\n",
    "    \n",
    "class BlockChain:\n",
    "    \n",
    "    def __init__(self):\n",
    "        self.chain = [self.createGenesisBlock()]\n",
    "\n",
    "    def createGenesisBlock(self):\n",
    "        return Block(0,\"01/01/2018\",\"genesis block\",\"0\")\n",
    "    \n",
    "    def getLatestBlock(self):\n",
    "        return self.chain[len(self.chain)-1]\n",
    "    \n",
    "    def addBlock(self,newBlock):\n",
    "        newBlock.previousHash = self.getLatestBlock().hash\n",
    "        newBlock.hash = newBlock.calculateHash()\n",
    "        self.chain.append(newBlock)\n",
    "    \n",
    "    def __str__(self):\n",
    "        return str(self.__dict__)    \n",
    "    \n",
    "    def chainIsValid(self):\n",
    "        for index in range(1,len(self.chain)):\n",
    "            currentBlock = self.chain[index]\n",
    "            previousBlock = self.chain[index-1]\n",
    "            if (currentBlock.hash != currentBlock.calculateHash()):\n",
    "                return False\n",
    "            if previousBlock.hash != currentBlock.previousHash:\n",
    "                return False\n",
    "        return True\n",
    "            \n",
    "                  \n",
    "myCoin = BlockChain()\n",
    "myCoin.addBlock(Block(1,\"02/01/2018\",\"{amount:4}\"))\n",
    "myCoin.addBlock(Block(2,\"03/01/2018\",\"{amount:5}\"))\n",
    "\n",
    "#print block info\n",
    "print(\"print block info ####:\")\n",
    "for block in myCoin.chain:\n",
    "    print(block)\n",
    "#check blockchain is valid\n",
    "print(\"before tamper block,blockchain is valid ###\")\n",
    "print(myCoin.chainIsValid())\n",
    "#tamper the blockinfo\n",
    "myCoin.chain[1].data = \"{amount:1002}\"\n",
    "print(\"after tamper block,blockchain is valid ###\")\n",
    "print(myCoin.chainIsValid())"
   ]
  },
  {
   "cell_type": "code",
   "execution_count": null,
   "metadata": {
    "collapsed": true
   },
   "outputs": [],
   "source": []
  }
 ],
 "metadata": {
  "kernelspec": {
   "display_name": "Python 3",
   "language": "python",
   "name": "python3"
  },
  "language_info": {
   "codemirror_mode": {
    "name": "ipython",
    "version": 3
   },
   "file_extension": ".py",
   "mimetype": "text/x-python",
   "name": "python",
   "nbconvert_exporter": "python",
   "pygments_lexer": "ipython3",
   "version": "3.6.3"
  }
 },
 "nbformat": 4,
 "nbformat_minor": 2
}
