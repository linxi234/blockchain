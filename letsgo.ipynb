{
 "cells": [
  {
   "cell_type": "code",
   "execution_count": 3,
   "metadata": {},
   "outputs": [
    {
     "name": "stdout",
     "output_type": "stream",
     "text": [
      "{'errorNo': '00', 'errorMsg': 'success', 'timestamp': '2018-02-06 19:18:01', 'data': {'petsOnSale': [{'id': '483520', 'petId': '1855391409054685153', 'birthType': 0, 'mutation': 0, 'generation': 0, 'rareDegree': 0, 'desc': '小莱', 'petType': 0, 'amount': '2100.00', 'bgColor': '#F0F4C3', 'petUrl': 'https://blockchain-pet-online.bj.bcebos.com/PET_SVG_36bc997b4ac45bc2af9075ae348cde6c', 'validCode': '0b8401fcf185b71b200d602a676b9140'}, {'id': '170656', 'petId': '1855389759787242207', 'birthType': 0, 'mutation': 0, 'generation': 0, 'rareDegree': 0, 'desc': '小莱', 'petType': 0, 'amount': '2165.00', 'bgColor': '#FFCDD3', 'petUrl': 'https://blockchain-pet-online.bj.bcebos.com/PET_SVG_9ff6f1aa9b1a6037b3a9c7e250d703bf', 'validCode': 'ffeba8eff7e8001de728662ee041e5ba'}, {'id': '585923', 'petId': '1855391958810494855', 'birthType': 0, 'mutation': 0, 'generation': 0, 'rareDegree': 0, 'desc': '小莱', 'petType': 0, 'amount': '2165.00', 'bgColor': '#FFF9C5', 'petUrl': 'https://blockchain-pet-online.bj.bcebos.com/PET_SVG_6fbb414e4d39cffdbe0840483bb0ece2', 'validCode': '9a62ee14c156bf113a07910baf8eff87'}, {'id': '1700123', 'petId': '1858369608098541153', 'birthType': 1, 'mutation': 0, 'generation': 0, 'rareDegree': 0, 'desc': '小莱', 'petType': 0, 'amount': '2165.00', 'bgColor': '#FFFDE7', 'petUrl': 'https://blockchain-pet-online.bj.bcebos.com/PET_SVG_f1425e22fb848cf01c640556627a0bf2', 'validCode': '24cd5c5e3b6bc7886f5463d984170941'}, {'id': '2053987', 'petId': '1861771050399674166', 'birthType': 1, 'mutation': 0, 'generation': 0, 'rareDegree': 0, 'desc': '小莱', 'petType': 0, 'amount': '2165.00', 'bgColor': '#B3E5FC', 'petUrl': 'https://blockchain-pet-online.bj.bcebos.com/PET_SVG_f8ed3db5540554cab7f13f4bd459b8e9', 'validCode': '25e112f265881e38eadbde7d5d9d9cd7'}], 'totalCount': 2270, 'hasData': True}}\n"
     ]
    }
   ],
   "source": [
    "import urllib.parse\n",
    "import urllib.request\n",
    "import json\n",
    "import time\n",
    "\n",
    "timestamp = int(time.time())\n",
    "\n",
    "newConditions = qstring = {\n",
    "\"appId\":1,\n",
    "\"lastAmount\":None,\n",
    "\"lastRareDegree\":None,\n",
    "\"pageNo\":1,\n",
    "\"pageSize\":5,\n",
    "\"petIds\":[],\n",
    "\"querySortType\":\"AMOUNT_ASC\",\n",
    "\"requestId\":1517893710113,\n",
    "\"tpl\":\"wechat\"\n",
    "}\n",
    "params = json.dumps(newConditions).encode('utf8')\n",
    "conditionsSetURL = \"https://pet-chain.baidu.com/data/market/queryPetsOnSale\"\n",
    "req = urllib.request.Request(conditionsSetURL, data=params,\n",
    "                             headers={'content-type': 'application/json'})\n",
    "response = urllib.request.urlopen(req)\n",
    "jsonResult = json.loads(response.read().decode('utf-8'))\n",
    "print(jsonResult)\n",
    "\n"
   ]
  },
  {
   "cell_type": "code",
   "execution_count": null,
   "metadata": {
    "collapsed": true
   },
   "outputs": [],
   "source": []
  },
  {
   "cell_type": "code",
   "execution_count": 2,
   "metadata": {},
   "outputs": [
    {
     "name": "stdout",
     "output_type": "stream",
     "text": [
      "2100.0\n",
      "True\n",
      "{'id': '2054792', 'petId': '1861770947320442488', 'birthType': 1, 'mutation': 0, 'generation': 0, 'rareDegree': 0, 'desc': '小莱', 'petType': 0, 'amount': '2100.00', 'bgColor': '#DDEDC9', 'petUrl': 'https://blockchain-pet-online.bj.bcebos.com/PET_SVG_a5afcd72f671e712a474a909214ce95b', 'validCode': 'b077e87594b40b6424f34862ec564525'}\n",
      "<class 'dict'>\n",
      "2164.0\n",
      "True\n",
      "{'id': '557100', 'petId': '1855391787011806984', 'birthType': 0, 'mutation': 0, 'generation': 0, 'rareDegree': 0, 'desc': '小莱', 'petType': 0, 'amount': '2164.00', 'bgColor': '#F0F4C3', 'petUrl': 'https://blockchain-pet-online.bj.bcebos.com/PET_SVG_6a1c8427331fea9e3d1e2746156ffbcc', 'validCode': 'f131db5337c2515ebbfd6b4446364426'}\n",
      "<class 'dict'>\n",
      "2165.0\n",
      "True\n",
      "{'id': '170656', 'petId': '1855389759787242207', 'birthType': 0, 'mutation': 0, 'generation': 0, 'rareDegree': 0, 'desc': '小莱', 'petType': 0, 'amount': '2165.00', 'bgColor': '#FFCDD3', 'petUrl': 'https://blockchain-pet-online.bj.bcebos.com/PET_SVG_9ff6f1aa9b1a6037b3a9c7e250d703bf', 'validCode': 'ffeba8eff7e8001de728662ee041e5ba'}\n",
      "<class 'dict'>\n",
      "2165.0\n",
      "True\n",
      "{'id': '585923', 'petId': '1855391958810494855', 'birthType': 0, 'mutation': 0, 'generation': 0, 'rareDegree': 0, 'desc': '小莱', 'petType': 0, 'amount': '2165.00', 'bgColor': '#FFF9C5', 'petUrl': 'https://blockchain-pet-online.bj.bcebos.com/PET_SVG_6fbb414e4d39cffdbe0840483bb0ece2', 'validCode': '9a62ee14c156bf113a07910baf8eff87'}\n",
      "<class 'dict'>\n",
      "2165.0\n",
      "True\n",
      "{'id': '1700123', 'petId': '1858369608098541153', 'birthType': 1, 'mutation': 0, 'generation': 0, 'rareDegree': 0, 'desc': '小莱', 'petType': 0, 'amount': '2165.00', 'bgColor': '#FFFDE7', 'petUrl': 'https://blockchain-pet-online.bj.bcebos.com/PET_SVG_f1425e22fb848cf01c640556627a0bf2', 'validCode': '24cd5c5e3b6bc7886f5463d984170941'}\n",
      "<class 'dict'>\n"
     ]
    }
   ],
   "source": [
    "def buy(pet):\n",
    "    id = pet['id']\n",
    "    petId = pet['petId']\n",
    "    validCode = pet['validCode']\n",
    "    print(pet)\n",
    "resultItems = jsonResult['data']['petsOnSale']\n",
    "for petOnSale in resultItems:\n",
    "    price = float(petOnSale['amount'])\n",
    "    print(price)\n",
    "    if price < 10000:\n",
    "        print(True)\n",
    "        buy(petOnSale)\n",
    "        \n",
    "    print(type(petOnSale))\n",
    "    "
   ]
  },
  {
   "cell_type": "code",
   "execution_count": 4,
   "metadata": {},
   "outputs": [
    {
     "name": "stdout",
     "output_type": "stream",
     "text": [
      "{'requestId': 1517915894, 'appId': 1, 'tpl': ''}\n",
      "{'errorNo': '00', 'errorMsg': 'success', 'timestamp': '2018-02-06 19:18:14', 'data': False}\n"
     ]
    }
   ],
   "source": [
    "header1={\n",
    "    \"Accept\": \"application/json\", \n",
    "    \"Accept-Encoding\": \"gzip, deflate, br\", \n",
    "    \"Accept-Language\": \"zh-CN,zh;q=0.9,en;q=0.8\", \n",
    "    \"Connection\": \"keep-alive\", \n",
    "    \"Content-Type\": \"application/json\", \n",
    "    \"Cookie\": \"BAIDUID=DFC43D1FED5D32EDAB423BF627A3BD40:FG=1; PSTM=1502015395; BIDUPSID=5A75AE008ACB758D8ED70186BE331624; BDUSS=zNNVC1Gd2Q0ejNqd2VsNkVTMHZraDBqYmdIZ1hifnNBak9MajBJS2hMYW9KakZhTVFBQUFBJCQAAAAAAAAAAAEAAAD2HGNDusbX09Hg19PSu7Gy19MAAAAAAAAAAAAAAAAAAAAAAAAAAAAAAAAAAAAAAAAAAAAAAAAAAAAAAAAAAAAAAAAAAKiZCVqomQlaY; MCITY=-%3A; BDORZ=B490B5EBF6F3CD402E515D22BCDA1598; H_PS_PSSID=1423_13289_21114_17001_22158; BDRCVFR[feWj1Vr5u3D]=I67x6TjHwwYf0; PSINO=5\", \n",
    "    \"Host\": \"pet-chain.baidu.com\", \n",
    "    \"Origin\": \"https://pet-chain.baidu.com\", \n",
    "    \"Referer\": \"https://pet-chain.baidu.com/chain/detail?channel=market&petId=1855391821371543708&validCode=ecdaf33ccba821041696a5be1d54a442\", \n",
    "    \"User-Agent\": \"Mozilla/5.0 (Macintosh; Intel Mac OS X 10_12_5) AppleWebKit/537.36 (KHTML, like Gecko) Chrome/64.0.3282.140 Safari/537.36\"\n",
    "}\n",
    "newConditions1 = {\"requestId\":int(time.time()),\"appId\":1,\"tpl\":\"\"}\n",
    "print(newConditions1)\n",
    "params1 = json.dumps(newConditions1).encode('utf8')\n",
    "conditionsSetURL1 = \"https://pet-chain.baidu.com/data/market/shouldJump2JianDan\"\n",
    "req = urllib.request.Request(conditionsSetURL1, data=params,headers=header1)\n",
    "response = urllib.request.urlopen(req)\n",
    "jsonResult = json.loads(response.read().decode('utf-8'))\n",
    "print(jsonResult)"
   ]
  },
  {
   "cell_type": "code",
   "execution_count": 5,
   "metadata": {},
   "outputs": [
    {
     "name": "stdout",
     "output_type": "stream",
     "text": [
      "{'requestId': 1517915901, 'appId': 1, 'tpl': ''}\n",
      "seed-1288154125\n",
      "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\n"
     ]
    }
   ],
   "source": [
    "header2={\n",
    "    \"Accept\": \"application/json\", \n",
    "    \"Accept-Encoding\": \"gzip, deflate, br\", \n",
    "    \"Accept-Language\": \"zh-CN,zh;q=0.9,en;q=0.8\", \n",
    "    \"Connection\": \"keep-alive\", \n",
    "    \"Content-Type\": \"application/json\", \n",
    "    \"Cookie\": \"BAIDUID=DFC43D1FED5D32EDAB423BF627A3BD40:FG=1; PSTM=1502015395; BIDUPSID=5A75AE008ACB758D8ED70186BE331624; BDUSS=zNNVC1Gd2Q0ejNqd2VsNkVTMHZraDBqYmdIZ1hifnNBak9MajBJS2hMYW9KakZhTVFBQUFBJCQAAAAAAAAAAAEAAAD2HGNDusbX09Hg19PSu7Gy19MAAAAAAAAAAAAAAAAAAAAAAAAAAAAAAAAAAAAAAAAAAAAAAAAAAAAAAAAAAAAAAAAAAKiZCVqomQlaY; MCITY=-%3A; BDORZ=B490B5EBF6F3CD402E515D22BCDA1598; H_PS_PSSID=1423_13289_21114_17001_22158; BDRCVFR[feWj1Vr5u3D]=I67x6TjHwwYf0; PSINO=5\", \n",
    "    \"Host\": \"pet-chain.baidu.com\", \n",
    "    \"Origin\": \"https://pet-chain.baidu.com\", \n",
    "    \"Referer\": \"https://pet-chain.baidu.com/chain/detail?channel=market&petId=1855391821371543708&validCode=ecdaf33ccba821041696a5be1d54a442\", \n",
    "    \"User-Agent\": \"Mozilla/5.0 (Macintosh; Intel Mac OS X 10_12_5) AppleWebKit/537.36 (KHTML, like Gecko) Chrome/64.0.3282.140 Safari/537.36\"\n",
    "}\n",
    "\n",
    "newConditions2 = {\"requestId\":int(time.time()),\"appId\":1,\"tpl\":\"\"}\n",
    "print(newConditions2)\n",
    "params2 = json.dumps(newConditions1).encode('utf8')\n",
    "conditionsSetURL2 = \"https://pet-chain.baidu.com/data/captcha/gen\"\n",
    "req = urllib.request.Request(conditionsSetURL2, data=params,headers=header2)\n",
    "response = urllib.request.urlopen(req)\n",
    "jsonResult = json.loads(response.read().decode('utf-8'))\n",
    "result = jsonResult['data']\n",
    "print(\"seed\"+str(result['seed']))\n",
    "print(\"img\"+str(result['img']))"
   ]
  },
  {
   "cell_type": "code",
   "execution_count": 6,
   "metadata": {},
   "outputs": [
    {
     "name": "stdout",
     "output_type": "stream",
     "text": [
      "request parameter: {'petId': '1855391821371543708', 'amount': '911111.00', 'seed': '-1801070639', 'captcha': 'xtsd', 'validCode': 'ecdaf33ccba821041696a5be1d54a442', 'requestId': 1517915925, 'appId': 1, 'tpl': ''}\n",
      "------------------------\n",
      "data :None\n",
      "errorMsg :验证码已过期\n",
      "timestamp :2018-02-06 19:18:46\n",
      "errorNo :101\n"
     ]
    }
   ],
   "source": [
    "header3={\n",
    "    \"Accept\": \"application/json\", \n",
    "    \"Accept-Encoding\": \"gzip, deflate, br\", \n",
    "    \"Accept-Language\": \"zh-CN,zh;q=0.9,en;q=0.8\", \n",
    "    \"Connection\": \"keep-alive\", \n",
    "    \"Content-Type\": \"application/json\", \n",
    "    \"Cookie\": \"BAIDUID=DFC43D1FED5D32EDAB423BF627A3BD40:FG=1; PSTM=1502015395; BIDUPSID=5A75AE008ACB758D8ED70186BE331624; BDUSS=zNNVC1Gd2Q0ejNqd2VsNkVTMHZraDBqYmdIZ1hifnNBak9MajBJS2hMYW9KakZhTVFBQUFBJCQAAAAAAAAAAAEAAAD2HGNDusbX09Hg19PSu7Gy19MAAAAAAAAAAAAAAAAAAAAAAAAAAAAAAAAAAAAAAAAAAAAAAAAAAAAAAAAAAAAAAAAAAKiZCVqomQlaY; MCITY=-%3A; BDORZ=B490B5EBF6F3CD402E515D22BCDA1598; H_PS_PSSID=1423_13289_21114_17001_22158; BDRCVFR[feWj1Vr5u3D]=I67x6TjHwwYf0; PSINO=5\", \n",
    "    \"Host\": \"pet-chain.baidu.com\", \n",
    "    \"Origin\": \"https://pet-chain.baidu.com\", \n",
    "    \"Referer\": \"https://pet-chain.baidu.com/chain/detail?channel=market&petId=1855391821371543708&validCode=ecdaf33ccba821041696a5be1d54a442\", \n",
    "    \"User-Agent\": \"Mozilla/5.0 (Macintosh; Intel Mac OS X 10_12_5) AppleWebKit/537.36 (KHTML, like Gecko) Chrome/64.0.3282.140 Safari/537.36\"\n",
    "}\n",
    "\n",
    "newConditions3 = {\n",
    "    \"petId\": \"1855391821371543708\", \n",
    "    \"amount\": \"911111.00\", \n",
    "    \"seed\": \"-1801070639\", \n",
    "    \"captcha\": \"xtsd\", \n",
    "    \"validCode\": \"ecdaf33ccba821041696a5be1d54a442\", \n",
    "    \"requestId\": int(time.time()), \n",
    "    \"appId\": 1, \n",
    "    \"tpl\": \"\"\n",
    "}\n",
    "print(\"request parameter: \"+ str(newConditions3))\n",
    "params3 = json.dumps(newConditions3).encode('utf8')\n",
    "conditionsSetURL3 = \"https://pet-chain.baidu.com/data/txn/create\"\n",
    "req = urllib.request.Request(conditionsSetURL3, data=params,headers=header3)\n",
    "response = urllib.request.urlopen(req)\n",
    "jsonResult = json.loads(response.read().decode('utf-8'))\n",
    "print(\"------------------------\")\n",
    "print(\"data :\"+str(jsonResult['data']))\n",
    "print(\"errorMsg :\"+str(jsonResult['errorMsg']))\n",
    "print(\"timestamp :\"+str(jsonResult['timestamp']))\n",
    "print(\"errorNo :\"+str(jsonResult['errorNo']))"
   ]
  },
  {
   "cell_type": "code",
   "execution_count": 8,
   "metadata": {},
   "outputs": [
    {
     "name": "stdout",
     "output_type": "stream",
     "text": [
      "b'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'\n"
     ]
    }
   ],
   "source": [
    "import base64\n",
    "image = \"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\"\n",
    "fh = open(\"heiqie.jpeg\", \"wb\")\n",
    "fh.write(base64.b64decode(image))\n",
    "fh.close()\n",
    "\n",
    "import base64\n",
    "with open(\"heiqie.jpeg\", \"rb\") as imageFile:\n",
    "    str = base64.b64encode(imageFile.read())\n",
    "    print(str)"
   ]
  },
  {
   "cell_type": "code",
   "execution_count": null,
   "metadata": {
    "collapsed": true
   },
   "outputs": [],
   "source": []
  },
  {
   "cell_type": "code",
   "execution_count": null,
   "metadata": {
    "collapsed": true
   },
   "outputs": [],
   "source": []
  }
 ],
 "metadata": {
  "kernelspec": {
   "display_name": "Python 3",
   "language": "python",
   "name": "python3"
  },
  "language_info": {
   "codemirror_mode": {
    "name": "ipython",
    "version": 3
   },
   "file_extension": ".py",
   "mimetype": "text/x-python",
   "name": "python",
   "nbconvert_exporter": "python",
   "pygments_lexer": "ipython3",
   "version": "3.6.3"
  }
 },
 "nbformat": 4,
 "nbformat_minor": 2
}
